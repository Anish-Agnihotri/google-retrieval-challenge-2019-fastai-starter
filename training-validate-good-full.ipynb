{
 "cells": [
  {
   "cell_type": "code",
   "execution_count": 2,
   "metadata": {},
   "outputs": [],
   "source": [
    "import os\n",
    "os.environ['CUDA_VISIBLE_DEVICES']=\"1\"\n",
    "\n",
    "from fastprogress import master_bar, progress_bar\n",
    "from fastai.vision import *\n",
    "from fastai.metrics import accuracy\n",
    "import pandas as pd\n",
    "import torch\n",
    "import torch.nn.functional as F\n",
    "from torch.nn.parameter import Parameter\n",
    "import torch.nn as nn\n",
    "import pretrainedmodels\n",
    "import math\n",
    "import sys\n",
    "import pickle\n",
    "\n"
   ]
  },
  {
   "cell_type": "code",
   "execution_count": 4,
   "metadata": {},
   "outputs": [
    {
     "data": {
      "text/html": [
       "<div>\n",
       "<style scoped>\n",
       "    .dataframe tbody tr th:only-of-type {\n",
       "        vertical-align: middle;\n",
       "    }\n",
       "\n",
       "    .dataframe tbody tr th {\n",
       "        vertical-align: top;\n",
       "    }\n",
       "\n",
       "    .dataframe thead th {\n",
       "        text-align: right;\n",
       "    }\n",
       "</style>\n",
       "<table border=\"1\" class=\"dataframe\">\n",
       "  <thead>\n",
       "    <tr style=\"text-align: right;\">\n",
       "      <th></th>\n",
       "      <th>Image</th>\n",
       "      <th>cluster</th>\n",
       "      <th>Id</th>\n",
       "    </tr>\n",
       "  </thead>\n",
       "  <tbody>\n",
       "    <tr>\n",
       "      <th>0</th>\n",
       "      <td>d9/a5/87/00ce116fe114e3bbec3a8cfcdc87a5d9</td>\n",
       "      <td>1</td>\n",
       "      <td>-1</td>\n",
       "    </tr>\n",
       "    <tr>\n",
       "      <th>1</th>\n",
       "      <td>4c/58/02/028a41d7cbda148192ebb7ff9502584c</td>\n",
       "      <td>1</td>\n",
       "      <td>13795</td>\n",
       "    </tr>\n",
       "    <tr>\n",
       "      <th>2</th>\n",
       "      <td>47/83/3c/02f987485f988da90e801a57b93c8347</td>\n",
       "      <td>1</td>\n",
       "      <td>1664</td>\n",
       "    </tr>\n",
       "    <tr>\n",
       "      <th>3</th>\n",
       "      <td>81/79/a0/031692d0fc888b7c31499a6499a07981</td>\n",
       "      <td>1</td>\n",
       "      <td>11213</td>\n",
       "    </tr>\n",
       "    <tr>\n",
       "      <th>4</th>\n",
       "      <td>d1/3a/bb/043299a8214c2c16355188055cbb3ad1</td>\n",
       "      <td>1</td>\n",
       "      <td>-1</td>\n",
       "    </tr>\n",
       "  </tbody>\n",
       "</table>\n",
       "</div>"
      ],
      "text/plain": [
       "                                       Image cluster     Id\n",
       "0  d9/a5/87/00ce116fe114e3bbec3a8cfcdc87a5d9       1     -1\n",
       "1  4c/58/02/028a41d7cbda148192ebb7ff9502584c       1  13795\n",
       "2  47/83/3c/02f987485f988da90e801a57b93c8347       1   1664\n",
       "3  81/79/a0/031692d0fc888b7c31499a6499a07981       1  11213\n",
       "4  d1/3a/bb/043299a8214c2c16355188055cbb3ad1       1     -1"
      ]
     },
     "execution_count": 4,
     "metadata": {},
     "output_type": "execute_result"
    }
   ],
   "source": [
    "#Lets create validations set\n",
    "df = pd.read_csv('train_sfm120k_full.csv')\n",
    "\n",
    "df.Id=df.Id.apply(str)\n",
    "df.cluster=df.cluster.apply(str)\n",
    "df.head()\n"
   ]
  },
  {
   "cell_type": "code",
   "execution_count": 5,
   "metadata": {},
   "outputs": [
    {
     "name": "stderr",
     "output_type": "stream",
     "text": [
      "/home.dokt/mishkdmy/anaconda3/envs/fastai1/lib/python3.7/site-packages/ipykernel_launcher.py:7: UserWarning: Boolean Series key will be reindexed to match DataFrame index.\n",
      "  import sys\n"
     ]
    }
   ],
   "source": [
    "im_count = df[df.cluster != \"-1\"].cluster.value_counts()\n",
    "im_count.name = 'sighting_count'\n",
    "df = df.join(im_count, on='cluster')\n",
    "df.head()\n",
    "path_prefix = 'data/train/retrieval-SfM-120k/ims'\n",
    "if True:\n",
    "    val_fns = set(df.sample(frac=1)[(df.cluster != \"-1\") & (df.sighting_count > 2)].groupby('cluster').first().Image)\n",
    "    val_fns = list(val_fns)\n",
    "    val_fns2= []\n",
    "    for k in val_fns:\n",
    "        val_fns2.append(path_prefix+'/'+k)\n",
    "    pd.to_pickle(val_fns2, 'data/val_fns_from_train_full.pkl')\n",
    "\n",
    "val_fns = pd.read_pickle('data/val_fns_from_train_full.pkl')"
   ]
  },
  {
   "cell_type": "code",
   "execution_count": null,
   "metadata": {},
   "outputs": [],
   "source": [
    "#Turned out, that lots of subclaster depict the same landmark -> are false negatives, if use full dataset.\n",
    "#Therefore I use clusters (which are only 500) as more reliable labels.\n",
    "#The code below fixes the problem (just replace Id with cluster)"
   ]
  },
  {
   "cell_type": "code",
   "execution_count": null,
   "metadata": {},
   "outputs": [],
   "source": [
    "SZ = 256\n",
    "BS = 48\n",
    "NUM_WORKERS = 10\n",
    "SEED=0\n",
    "\n",
    "\n",
    "DATA_DIR='data/'\n",
    "\n",
    "name = f'DenseNet121-GeMConst-{SZ}-Ring-CELU'\n",
    "fn2label = {path_prefix+'/'+row[1].Image: row[1].cluster for row in df.iterrows()}\n",
    "data = (\n",
    "    ImageList\n",
    "        .from_df(df[df.cluster != \"-1\"], path=path_prefix, cols=['Image'])\n",
    "        .split_by_valid_func(lambda path: path in val_fns)\n",
    "        .label_from_func(lambda path: fn2label[path])\n",
    "        .transform(get_transforms(do_flip=False), size=SZ, resize_method=ResizeMethod.SQUISH)\n",
    "        .databunch(bs=BS, num_workers=NUM_WORKERS, path='')\n",
    "        .normalize(imagenet_stats)\n",
    ")\n",
    "data.show_batch(rows=3)"
   ]
  },
  {
   "cell_type": "code",
   "execution_count": null,
   "metadata": {},
   "outputs": [],
   "source": [
    "NUM_CLASSES= len(data.classes)\n",
    "print (NUM_CLASSES)"
   ]
  },
  {
   "cell_type": "code",
   "execution_count": 6,
   "metadata": {},
   "outputs": [],
   "source": [
    "from arch import GeM, L2Norm\n",
    "\n",
    "# Based on my solution to whale-identification-competition\n",
    "# https://medium.com/@ducha.aiki/thanks-radek-7th-place-solution-to-hwi-2019-competition-738624e4c885\n",
    "class RingHead(nn.Module):\n",
    "    def __init__(self, num_classes, feat_dim, in_feat = 1024, r_init =1.5):\n",
    "        super(RingHead,self).__init__()\n",
    "        self.eps = 1e-10\n",
    "        self.num_classes = num_classes\n",
    "        self.feat_dim = feat_dim\n",
    "        self.feature_extractor = nn.Sequential(\n",
    "                        nn.ReLU(),\n",
    "                        GeM(3.74), Flatten(),\n",
    "                        nn.BatchNorm1d(in_feat, eps=1e-05, momentum=0.1,\n",
    "                                                       affine=True, track_running_stats=True),\n",
    "                        nn.Dropout(p=0.3),\n",
    "                        nn.Linear(in_features=in_feat, out_features=feat_dim, bias=True),\n",
    "                        nn.CELU(inplace=True),\n",
    "                        nn.BatchNorm1d(feat_dim,eps=1e-05, momentum=0.1,\n",
    "                                                       affine=True, track_running_stats=True))\n",
    "        \n",
    "        self.ring =  nn.Parameter(torch.ones(1).cuda()*r_init)\n",
    "        self.clf = nn.Sequential(nn.Dropout(p=0.5),\n",
    "                        nn.Linear(in_features=feat_dim, out_features=num_classes, bias=False))\n",
    "    def forward(self, x):\n",
    "        feats = self.feature_extractor(x)\n",
    "        preds = self.clf(feats)\n",
    "        return preds,feats\n",
    "\n",
    "class RingGeMNet(nn.Module):\n",
    "    def __init__(self, new_model, n_classes, in_feats=1024, out_feats=1024):\n",
    "        super().__init__()\n",
    "        self.cnn =  new_model.features\n",
    "        self.head = RingHead(NUM_CLASSES, out_feats, in_feats)\n",
    "    def forward(self, x):\n",
    "        x = self.cnn(x)\n",
    "        preds,feats = self.head(x)\n",
    "        return preds,feats\n",
    "@dataclass\n",
    "class RingLoss(Callback):\n",
    "    learn:Learner\n",
    "    alpha:float=0.01\n",
    "    def on_loss_begin(self, last_output:Tuple[tensor,tensor], **kwargs):\n",
    "        \"Save the extra outputs for later and only returns the true output.\"\n",
    "        self.feature_out = last_output[1]\n",
    "        return {'last_output':last_output[0]}\n",
    "\n",
    "    def on_backward_begin(self,\n",
    "                          last_loss:Rank0Tensor,\n",
    "                          **kwargs):\n",
    "        \n",
    "        x = self.feature_out\n",
    "        R = self.learn.model.head.ring\n",
    "        loss = None\n",
    "        cc=0\n",
    "        x_norm = x.pow(2).sum(dim=1).pow(0.5)\n",
    "        diff = torch.mean(torch.abs(x_norm - R.expand_as(x_norm))**2)\n",
    "        if loss is None:\n",
    "            loss = diff.mean()\n",
    "        else:\n",
    "            loss = loss + diff.mean()\n",
    "        if self.alpha != 0.:  last_loss += (self.alpha * loss).sum()\n",
    "        return {'last_loss':last_loss}"
   ]
  },
  {
   "cell_type": "code",
   "execution_count": 7,
   "metadata": {},
   "outputs": [
    {
     "name": "stderr",
     "output_type": "stream",
     "text": [
      "/home.dokt/mishkdmy/anaconda3/envs/fastai1/lib/python3.7/site-packages/torchvision/models/densenet.py:212: UserWarning: nn.init.kaiming_normal is now deprecated in favor of nn.init.kaiming_normal_.\n",
      "  nn.init.kaiming_normal(m.weight.data)\n"
     ]
    }
   ],
   "source": [
    "learn = Learner(data, RingGeMNet(models.densenet121(pretrained=True), NUM_CLASSES),\n",
    "                   metrics=[accuracy],\n",
    "                   loss_func=nn.CrossEntropyLoss(),\n",
    "                   callback_fns = [RingLoss])\n",
    "learn.split([learn.model.cnn, learn.model.head])\n",
    "learn.freeze()\n",
    "learn.clip_grad();\n",
    "\n"
   ]
  },
  {
   "cell_type": "code",
   "execution_count": 8,
   "metadata": {},
   "outputs": [
    {
     "data": {
      "text/html": [],
      "text/plain": [
       "<IPython.core.display.HTML object>"
      ]
     },
     "metadata": {},
     "output_type": "display_data"
    },
    {
     "name": "stdout",
     "output_type": "stream",
     "text": [
      "LR Finder is complete, type {learner_name}.recorder.plot() to see the graph.\n"
     ]
    },
    {
     "data": {
      "image/png": "[encoded data removed]",
      "text/plain": [
       "<Figure size 432x288 with 1 Axes>"
      ]
     },
     "metadata": {
      "needs_background": "light"
     },
     "output_type": "display_data"
    }
   ],
   "source": [
    "learn.lr_find()\n",
    "learn.recorder.plot()"
   ]
  },
  {
   "cell_type": "code",
   "execution_count": 9,
   "metadata": {},
   "outputs": [
    {
     "data": {
      "text/html": [
       "Total time: 15:46 <p><table border=\"1\" class=\"dataframe\">\n",
       "  <thead>\n",
       "    <tr style=\"text-align: left;\">\n",
       "      <th>epoch</th>\n",
       "      <th>train_loss</th>\n",
       "      <th>valid_loss</th>\n",
       "      <th>accuracy</th>\n",
       "      <th>time</th>\n",
       "    </tr>\n",
       "  </thead>\n",
       "  <tbody>\n",
       "    <tr>\n",
       "      <td>0</td>\n",
       "      <td>5.054205</td>\n",
       "      <td>4.607516</td>\n",
       "      <td>0.268503</td>\n",
       "      <td>01:15</td>\n",
       "    </tr>\n",
       "    <tr>\n",
       "      <td>1</td>\n",
       "      <td>2.906964</td>\n",
       "      <td>2.830897</td>\n",
       "      <td>0.432014</td>\n",
       "      <td>01:08</td>\n",
       "    </tr>\n",
       "    <tr>\n",
       "      <td>2</td>\n",
       "      <td>2.098047</td>\n",
       "      <td>2.535192</td>\n",
       "      <td>0.464716</td>\n",
       "      <td>00:44</td>\n",
       "    </tr>\n",
       "    <tr>\n",
       "      <td>3</td>\n",
       "      <td>1.882168</td>\n",
       "      <td>2.283382</td>\n",
       "      <td>0.497418</td>\n",
       "      <td>00:44</td>\n",
       "    </tr>\n",
       "    <tr>\n",
       "      <td>4</td>\n",
       "      <td>1.754213</td>\n",
       "      <td>2.233782</td>\n",
       "      <td>0.507745</td>\n",
       "      <td>00:44</td>\n",
       "    </tr>\n",
       "    <tr>\n",
       "      <td>5</td>\n",
       "      <td>1.589901</td>\n",
       "      <td>2.088508</td>\n",
       "      <td>0.540448</td>\n",
       "      <td>00:44</td>\n",
       "    </tr>\n",
       "    <tr>\n",
       "      <td>6</td>\n",
       "      <td>1.369799</td>\n",
       "      <td>2.040298</td>\n",
       "      <td>0.564544</td>\n",
       "      <td>00:44</td>\n",
       "    </tr>\n",
       "    <tr>\n",
       "      <td>7</td>\n",
       "      <td>1.249612</td>\n",
       "      <td>1.869880</td>\n",
       "      <td>0.581756</td>\n",
       "      <td>00:44</td>\n",
       "    </tr>\n",
       "    <tr>\n",
       "      <td>8</td>\n",
       "      <td>1.081493</td>\n",
       "      <td>1.831358</td>\n",
       "      <td>0.602410</td>\n",
       "      <td>00:44</td>\n",
       "    </tr>\n",
       "    <tr>\n",
       "      <td>9</td>\n",
       "      <td>0.952218</td>\n",
       "      <td>1.798119</td>\n",
       "      <td>0.611015</td>\n",
       "      <td>00:44</td>\n",
       "    </tr>\n",
       "    <tr>\n",
       "      <td>10</td>\n",
       "      <td>0.795550</td>\n",
       "      <td>1.713404</td>\n",
       "      <td>0.650602</td>\n",
       "      <td>00:45</td>\n",
       "    </tr>\n",
       "    <tr>\n",
       "      <td>11</td>\n",
       "      <td>0.645218</td>\n",
       "      <td>1.612839</td>\n",
       "      <td>0.669535</td>\n",
       "      <td>00:44</td>\n",
       "    </tr>\n",
       "    <tr>\n",
       "      <td>12</td>\n",
       "      <td>0.508921</td>\n",
       "      <td>1.493915</td>\n",
       "      <td>0.671256</td>\n",
       "      <td>00:44</td>\n",
       "    </tr>\n",
       "    <tr>\n",
       "      <td>13</td>\n",
       "      <td>0.387229</td>\n",
       "      <td>1.531267</td>\n",
       "      <td>0.678141</td>\n",
       "      <td>00:44</td>\n",
       "    </tr>\n",
       "    <tr>\n",
       "      <td>14</td>\n",
       "      <td>0.275240</td>\n",
       "      <td>1.488674</td>\n",
       "      <td>0.676420</td>\n",
       "      <td>00:44</td>\n",
       "    </tr>\n",
       "    <tr>\n",
       "      <td>15</td>\n",
       "      <td>0.204628</td>\n",
       "      <td>1.392235</td>\n",
       "      <td>0.693632</td>\n",
       "      <td>00:44</td>\n",
       "    </tr>\n",
       "    <tr>\n",
       "      <td>16</td>\n",
       "      <td>0.167888</td>\n",
       "      <td>1.389115</td>\n",
       "      <td>0.697074</td>\n",
       "      <td>00:44</td>\n",
       "    </tr>\n",
       "    <tr>\n",
       "      <td>17</td>\n",
       "      <td>0.125095</td>\n",
       "      <td>1.352022</td>\n",
       "      <td>0.714286</td>\n",
       "      <td>00:44</td>\n",
       "    </tr>\n",
       "    <tr>\n",
       "      <td>18</td>\n",
       "      <td>0.102456</td>\n",
       "      <td>1.354310</td>\n",
       "      <td>0.705680</td>\n",
       "      <td>00:44</td>\n",
       "    </tr>\n",
       "    <tr>\n",
       "      <td>19</td>\n",
       "      <td>0.089939</td>\n",
       "      <td>1.346360</td>\n",
       "      <td>0.700516</td>\n",
       "      <td>00:44</td>\n",
       "    </tr>\n",
       "  </tbody>\n",
       "</table>"
      ],
      "text/plain": [
       "<IPython.core.display.HTML object>"
      ]
     },
     "metadata": {},
     "output_type": "display_data"
    }
   ],
   "source": [
    "learn.fit_one_cycle(20, 1e-2)"
   ]
  },
  {
   "cell_type": "code",
   "execution_count": 10,
   "metadata": {},
   "outputs": [
    {
     "data": {
      "image/png": "[encoded data removed]",
      "text/plain": [
       "<Figure size 432x288 with 1 Axes>"
      ]
     },
     "metadata": {
      "needs_background": "light"
     },
     "output_type": "display_data"
    },
    {
     "data": {
      "image/png": "[encoded data removed]",
      "text/plain": [
       "<Figure size 432x288 with 1 Axes>"
      ]
     },
     "metadata": {
      "needs_background": "light"
     },
     "output_type": "display_data"
    }
   ],
   "source": [
    "learn.recorder.plot_losses()\n",
    "learn.recorder.plot_metrics()"
   ]
  },
  {
   "cell_type": "code",
   "execution_count": 11,
   "metadata": {},
   "outputs": [],
   "source": [
    "name = f'DenseNet121-GeM-{SZ}-Ring-CELU'\n",
    "learn.save(name)"
   ]
  },
  {
   "cell_type": "code",
   "execution_count": 12,
   "metadata": {},
   "outputs": [
    {
     "data": {
      "text/html": [
       "Total time: 27:37 <p><table border=\"1\" class=\"dataframe\">\n",
       "  <thead>\n",
       "    <tr style=\"text-align: left;\">\n",
       "      <th>epoch</th>\n",
       "      <th>train_loss</th>\n",
       "      <th>valid_loss</th>\n",
       "      <th>accuracy</th>\n",
       "      <th>time</th>\n",
       "    </tr>\n",
       "  </thead>\n",
       "  <tbody>\n",
       "    <tr>\n",
       "      <td>0</td>\n",
       "      <td>0.095075</td>\n",
       "      <td>1.344999</td>\n",
       "      <td>0.716007</td>\n",
       "      <td>00:50</td>\n",
       "    </tr>\n",
       "    <tr>\n",
       "      <td>1</td>\n",
       "      <td>0.084401</td>\n",
       "      <td>1.360468</td>\n",
       "      <td>0.700516</td>\n",
       "      <td>00:51</td>\n",
       "    </tr>\n",
       "    <tr>\n",
       "      <td>2</td>\n",
       "      <td>0.092641</td>\n",
       "      <td>1.404631</td>\n",
       "      <td>0.693632</td>\n",
       "      <td>00:51</td>\n",
       "    </tr>\n",
       "    <tr>\n",
       "      <td>3</td>\n",
       "      <td>0.117197</td>\n",
       "      <td>1.432561</td>\n",
       "      <td>0.710843</td>\n",
       "      <td>00:51</td>\n",
       "    </tr>\n",
       "    <tr>\n",
       "      <td>4</td>\n",
       "      <td>0.119423</td>\n",
       "      <td>1.486449</td>\n",
       "      <td>0.707401</td>\n",
       "      <td>00:51</td>\n",
       "    </tr>\n",
       "    <tr>\n",
       "      <td>5</td>\n",
       "      <td>0.171800</td>\n",
       "      <td>1.431947</td>\n",
       "      <td>0.702238</td>\n",
       "      <td>00:51</td>\n",
       "    </tr>\n",
       "    <tr>\n",
       "      <td>6</td>\n",
       "      <td>0.206716</td>\n",
       "      <td>1.569325</td>\n",
       "      <td>0.678141</td>\n",
       "      <td>00:51</td>\n",
       "    </tr>\n",
       "    <tr>\n",
       "      <td>7</td>\n",
       "      <td>0.222557</td>\n",
       "      <td>1.478963</td>\n",
       "      <td>0.681583</td>\n",
       "      <td>00:52</td>\n",
       "    </tr>\n",
       "    <tr>\n",
       "      <td>8</td>\n",
       "      <td>0.224043</td>\n",
       "      <td>1.560176</td>\n",
       "      <td>0.667814</td>\n",
       "      <td>00:52</td>\n",
       "    </tr>\n",
       "    <tr>\n",
       "      <td>9</td>\n",
       "      <td>0.218597</td>\n",
       "      <td>1.503104</td>\n",
       "      <td>0.685026</td>\n",
       "      <td>00:51</td>\n",
       "    </tr>\n",
       "    <tr>\n",
       "      <td>10</td>\n",
       "      <td>0.217571</td>\n",
       "      <td>1.695202</td>\n",
       "      <td>0.672978</td>\n",
       "      <td>00:51</td>\n",
       "    </tr>\n",
       "    <tr>\n",
       "      <td>11</td>\n",
       "      <td>0.202061</td>\n",
       "      <td>1.562597</td>\n",
       "      <td>0.679862</td>\n",
       "      <td>00:51</td>\n",
       "    </tr>\n",
       "    <tr>\n",
       "      <td>12</td>\n",
       "      <td>0.201547</td>\n",
       "      <td>1.620661</td>\n",
       "      <td>0.674699</td>\n",
       "      <td>00:52</td>\n",
       "    </tr>\n",
       "    <tr>\n",
       "      <td>13</td>\n",
       "      <td>0.178404</td>\n",
       "      <td>1.631138</td>\n",
       "      <td>0.678141</td>\n",
       "      <td>00:51</td>\n",
       "    </tr>\n",
       "    <tr>\n",
       "      <td>14</td>\n",
       "      <td>0.155485</td>\n",
       "      <td>1.635688</td>\n",
       "      <td>0.674699</td>\n",
       "      <td>00:51</td>\n",
       "    </tr>\n",
       "    <tr>\n",
       "      <td>15</td>\n",
       "      <td>0.145308</td>\n",
       "      <td>1.549528</td>\n",
       "      <td>0.683305</td>\n",
       "      <td>00:51</td>\n",
       "    </tr>\n",
       "    <tr>\n",
       "      <td>16</td>\n",
       "      <td>0.131970</td>\n",
       "      <td>1.520778</td>\n",
       "      <td>0.702238</td>\n",
       "      <td>00:51</td>\n",
       "    </tr>\n",
       "    <tr>\n",
       "      <td>17</td>\n",
       "      <td>0.107828</td>\n",
       "      <td>1.546361</td>\n",
       "      <td>0.698795</td>\n",
       "      <td>00:51</td>\n",
       "    </tr>\n",
       "    <tr>\n",
       "      <td>18</td>\n",
       "      <td>0.099581</td>\n",
       "      <td>1.553185</td>\n",
       "      <td>0.716007</td>\n",
       "      <td>00:51</td>\n",
       "    </tr>\n",
       "    <tr>\n",
       "      <td>19</td>\n",
       "      <td>0.076612</td>\n",
       "      <td>1.522551</td>\n",
       "      <td>0.710843</td>\n",
       "      <td>00:52</td>\n",
       "    </tr>\n",
       "    <tr>\n",
       "      <td>20</td>\n",
       "      <td>0.069855</td>\n",
       "      <td>1.558629</td>\n",
       "      <td>0.685026</td>\n",
       "      <td>00:51</td>\n",
       "    </tr>\n",
       "    <tr>\n",
       "      <td>21</td>\n",
       "      <td>0.054608</td>\n",
       "      <td>1.525474</td>\n",
       "      <td>0.714286</td>\n",
       "      <td>00:51</td>\n",
       "    </tr>\n",
       "    <tr>\n",
       "      <td>22</td>\n",
       "      <td>0.050432</td>\n",
       "      <td>1.513593</td>\n",
       "      <td>0.717728</td>\n",
       "      <td>00:51</td>\n",
       "    </tr>\n",
       "    <tr>\n",
       "      <td>23</td>\n",
       "      <td>0.046512</td>\n",
       "      <td>1.551380</td>\n",
       "      <td>0.703959</td>\n",
       "      <td>00:51</td>\n",
       "    </tr>\n",
       "    <tr>\n",
       "      <td>24</td>\n",
       "      <td>0.037956</td>\n",
       "      <td>1.569461</td>\n",
       "      <td>0.705680</td>\n",
       "      <td>00:52</td>\n",
       "    </tr>\n",
       "    <tr>\n",
       "      <td>25</td>\n",
       "      <td>0.030914</td>\n",
       "      <td>1.571936</td>\n",
       "      <td>0.717728</td>\n",
       "      <td>00:51</td>\n",
       "    </tr>\n",
       "    <tr>\n",
       "      <td>26</td>\n",
       "      <td>0.029179</td>\n",
       "      <td>1.576040</td>\n",
       "      <td>0.710843</td>\n",
       "      <td>00:52</td>\n",
       "    </tr>\n",
       "    <tr>\n",
       "      <td>27</td>\n",
       "      <td>0.017855</td>\n",
       "      <td>1.586678</td>\n",
       "      <td>0.717728</td>\n",
       "      <td>00:51</td>\n",
       "    </tr>\n",
       "    <tr>\n",
       "      <td>28</td>\n",
       "      <td>0.021898</td>\n",
       "      <td>1.587334</td>\n",
       "      <td>0.717728</td>\n",
       "      <td>00:51</td>\n",
       "    </tr>\n",
       "    <tr>\n",
       "      <td>29</td>\n",
       "      <td>0.017321</td>\n",
       "      <td>1.573230</td>\n",
       "      <td>0.717728</td>\n",
       "      <td>00:52</td>\n",
       "    </tr>\n",
       "    <tr>\n",
       "      <td>30</td>\n",
       "      <td>0.019199</td>\n",
       "      <td>1.572690</td>\n",
       "      <td>0.719449</td>\n",
       "      <td>00:51</td>\n",
       "    </tr>\n",
       "    <tr>\n",
       "      <td>31</td>\n",
       "      <td>0.017230</td>\n",
       "      <td>1.570516</td>\n",
       "      <td>0.716007</td>\n",
       "      <td>00:52</td>\n",
       "    </tr>\n",
       "  </tbody>\n",
       "</table>"
      ],
      "text/plain": [
       "<IPython.core.display.HTML object>"
      ]
     },
     "metadata": {},
     "output_type": "display_data"
    },
    {
     "data": {
      "image/png": "[encoded data removed]",
      "text/plain": [
       "<Figure size 432x288 with 1 Axes>"
      ]
     },
     "metadata": {
      "needs_background": "light"
     },
     "output_type": "display_data"
    },
    {
     "data": {
      "image/png": "[encoded data removed]",
      "text/plain": [
       "<Figure size 432x288 with 1 Axes>"
      ]
     },
     "metadata": {
      "needs_background": "light"
     },
     "output_type": "display_data"
    }
   ],
   "source": [
    "learn.unfreeze()\n",
    "max_lr = 1e-3\n",
    "lrs = [max_lr/5., max_lr]\n",
    "learn.fit_one_cycle(32, lrs)\n",
    "learn.recorder.plot_losses()\n",
    "learn.recorder.plot_metrics()\n",
    "learn.save(name+\"_unfreeze\")\n",
    "#Accuracy gain seems minor, but key factor here is to finetune backbone network "
   ]
  },
  {
   "cell_type": "code",
   "execution_count": 28,
   "metadata": {},
   "outputs": [],
   "source": [
    "from fastai import *\n",
    "from fastai.vision import *\n",
    "import torch\n",
    "from fastprogress import master_bar, progress_bar\n",
    "import PIL\n",
    "import matplotlib.pyplot as plt\n",
    "from third_party.testdataset import configdataset\n",
    "from third_party.evaluate import compute_map_and_print\n",
    "\n",
    "import pandas as pd\n",
    "\n",
    "\n",
    "def open_image_cropped(fn:PathOrStr, div:bool=True, convert_mode:str='RGB', cls:type=Image)->Image:\n",
    "    \"Return `Image` object created from image in file `fn`.\"\n",
    "    #fn = getattr(fn, 'path', fn)\n",
    "    x = PIL.Image.open(fn).convert(convert_mode).crop(bbxs[str(fn).replace('./','')])\n",
    "    x = pil2tensor(x,np.float32)\n",
    "    if div: x.div_(255)\n",
    "    return cls(x)\n",
    "\n",
    "class ImageItemCrop(ImageList):\n",
    "    def open(self, fn:PathOrStr)->Image:\n",
    "        return open_image_cropped(fn)\n",
    "\n",
    "def extract_vectors_batched(data,model,bs):\n",
    "    model.cuda()\n",
    "    model.eval()\n",
    "    num_img = len(data.train_ds)\n",
    "    vectors = None\n",
    "    with torch.no_grad():\n",
    "        idx=0\n",
    "        for img_label in progress_bar(data.train_dl):\n",
    "            st=idx*bs\n",
    "            fin=min((idx+1)*bs, num_img)\n",
    "            img,label = img_label\n",
    "            out = model(img).cpu()\n",
    "            if vectors is None:\n",
    "                vectors = torch.zeros(num_img, out.size(1))\n",
    "            vectors[st:fin,:] = out\n",
    "            idx+=1\n",
    "    return vectors\n",
    "\n",
    "def validate_on_dataset(model, dataset_name='oxford5k', DATA_DIR='data/'):\n",
    "    cfg = configdataset(dataset_name, os.path.join(DATA_DIR, 'test'))\n",
    "    images = [cfg['im_fname'](cfg,i) for i in range(cfg['n'])]\n",
    "    qimages = [cfg['qim_fname'](cfg,i) for i in range(cfg['nq'])]\n",
    "    df = pd.DataFrame(images, columns=['Image'])\n",
    "    qdf  = pd.DataFrame(qimages, columns=['qimages'])\n",
    "    global bbxs\n",
    "    bbxs = {qimages[i]:tuple(cfg['gnd'][i]['bbx']) for i in range(cfg['nq'])}\n",
    "    BS=1\n",
    "    NUM_WORKERS=8\n",
    "    tfms = get_transforms(do_flip=False)\n",
    "    tfms = (tfms[1],tfms[1]) #no transforms\n",
    "    query_data = (ImageItemCrop.from_df(qdf,'', cols=['qimages'])\n",
    "        .split_none()\n",
    "        .label_const()\n",
    "        .transform(tfms, resize_method=ResizeMethod.NO)\n",
    "        .databunch(bs=BS, num_workers=NUM_WORKERS)\n",
    "        .normalize(imagenet_stats)\n",
    "       )\n",
    "    query_data.train_dl.dl.batch_sampler.sampler = torch.utils.data.SequentialSampler(query_data.train_ds)\n",
    "    query_data.train_dl.dl.batch_sampler.drop_last = False\n",
    "    print ('Extracting query features...')\n",
    "    query_vectors = extract_vectors_batched(query_data,model, 1)\n",
    "    data = (ImageList.from_df(df,'', cols=['Image'])\n",
    "            .split_none()\n",
    "            .label_const()\n",
    "            .transform(tfms, resize_method=ResizeMethod.NO)\n",
    "            .databunch(bs=BS, num_workers=NUM_WORKERS)\n",
    "            .normalize(imagenet_stats)\n",
    "           )\n",
    "    data.train_dl.dl.batch_sampler.sampler = torch.utils.data.SequentialSampler(data.train_ds)\n",
    "    data.train_dl.dl.batch_sampler.drop_last = False\n",
    "    print ('Extracting index features...')\n",
    "    db_vectors = extract_vectors_batched(data,model,1)\n",
    "    print('>> {}: Evaluating...'.format(dataset_name))\n",
    "    # convert to numpy\n",
    "    vecs = db_vectors.numpy()\n",
    "    qvecs = query_vectors.numpy()\n",
    "    # search, rank, and print\n",
    "    scores = np.dot(vecs, qvecs.T)\n",
    "    ranks = np.argsort(-scores, axis=0)\n",
    "    compute_map_and_print(dataset_name, ranks, cfg['gnd'])\n",
    "    return vecs, qvecs #If you want to check some kind of query expansion"
   ]
  },
  {
   "cell_type": "code",
   "execution_count": 29,
   "metadata": {},
   "outputs": [
    {
     "name": "stderr",
     "output_type": "stream",
     "text": [
      "/home.dokt/mishkdmy/anaconda3/envs/fastai1/lib/python3.7/site-packages/torchvision/models/densenet.py:212: UserWarning: nn.init.kaiming_normal is now deprecated in favor of nn.init.kaiming_normal_.\n",
      "  nn.init.kaiming_normal(m.weight.data)\n"
     ]
    },
    {
     "name": "stdout",
     "output_type": "stream",
     "text": [
      "Extracting query features...\n"
     ]
    },
    {
     "data": {
      "text/html": [
       "\n",
       "    <div>\n",
       "        <style>\n",
       "            /* Turns off some styling */\n",
       "            progress {\n",
       "                /* gets rid of default border in Firefox and Opera. */\n",
       "                border: none;\n",
       "                /* Needs to be in here for Safari polyfill so background images work as expected. */\n",
       "                background-size: auto;\n",
       "            }\n",
       "            .progress-bar-interrupted, .progress-bar-interrupted::-webkit-progress-bar {\n",
       "                background: #F44336;\n",
       "            }\n",
       "        </style>\n",
       "      <progress value='55' class='' max='55', style='width:300px; height:20px; vertical-align: middle;'></progress>\n",
       "      100.00% [55/55 00:01<00:00]\n",
       "    </div>\n",
       "    "
      ],
      "text/plain": [
       "<IPython.core.display.HTML object>"
      ]
     },
     "metadata": {},
     "output_type": "display_data"
    },
    {
     "name": "stdout",
     "output_type": "stream",
     "text": [
      "Extracting index features...\n"
     ]
    },
    {
     "data": {
      "text/html": [
       "\n",
       "    <div>\n",
       "        <style>\n",
       "            /* Turns off some styling */\n",
       "            progress {\n",
       "                /* gets rid of default border in Firefox and Opera. */\n",
       "                border: none;\n",
       "                /* Needs to be in here for Safari polyfill so background images work as expected. */\n",
       "                background-size: auto;\n",
       "            }\n",
       "            .progress-bar-interrupted, .progress-bar-interrupted::-webkit-progress-bar {\n",
       "                background: #F44336;\n",
       "            }\n",
       "        </style>\n",
       "      <progress value='5063' class='' max='5063', style='width:300px; height:20px; vertical-align: middle;'></progress>\n",
       "      100.00% [5063/5063 02:43<00:00]\n",
       "    </div>\n",
       "    "
      ],
      "text/plain": [
       "<IPython.core.display.HTML object>"
      ]
     },
     "metadata": {},
     "output_type": "display_data"
    },
    {
     "name": "stdout",
     "output_type": "stream",
     "text": [
      ">> oxford5k: Evaluating...\n",
      ">> oxford5k: mAP 44.09\n"
     ]
    },
    {
     "data": {
      "text/plain": [
       "(array([[-0.021622,  0.021259, -0.029676,  0.017979, ...,  0.036857, -0.021685,  0.022863, -0.027753],\n",
       "        [ 0.018072, -0.027499, -0.034996, -0.048332, ..., -0.00497 , -0.015119, -0.009101,  0.003097],\n",
       "        [ 0.064768, -0.026426, -0.016778, -0.048025, ...,  0.006358,  0.004505,  0.005161,  0.029625],\n",
       "        [ 0.0151  , -0.029964,  0.011569, -0.050894, ..., -0.036538, -0.040126, -0.029975, -0.036582],\n",
       "        ...,\n",
       "        [ 0.018506,  0.053659, -0.045643, -0.021631, ..., -0.009741, -0.019519,  0.000168, -0.01194 ],\n",
       "        [ 0.065018,  0.075035, -0.032245, -0.036542, ..., -0.028625,  0.024751, -0.022455, -0.026921],\n",
       "        [ 0.059114, -0.021548, -0.034563, -0.041095, ..., -0.030627,  0.047769, -0.014799,  0.01    ],\n",
       "        [ 0.025294,  0.01514 ,  0.010329, -0.032807, ..., -0.003097,  0.031349, -0.006047, -0.010797]], dtype=float32),\n",
       " array([[ 0.082295,  0.001369,  0.002082, -0.019501, ..., -0.00014 , -0.041534, -0.029609, -0.034843],\n",
       "        [-0.02582 ,  0.047274, -0.024175,  0.015413, ..., -0.009278, -0.022416, -0.012166, -0.036102],\n",
       "        [-0.027004, -0.017342, -0.033145,  0.038841, ...,  0.022159, -0.004011, -0.010388, -0.03512 ],\n",
       "        [-0.022368, -0.006567, -0.035291,  0.023615, ...,  0.01306 ,  0.044404, -0.014564,  0.003205],\n",
       "        ...,\n",
       "        [ 0.036122, -0.029723, -0.04269 , -0.050867, ..., -0.032231, -0.023293, -0.01001 , -0.039652],\n",
       "        [-0.018633, -0.032743, -0.04238 , -0.04544 , ..., -0.007293, -0.001488,  0.029317, -0.039654],\n",
       "        [ 0.002857, -0.02994 ,  0.006014, -0.050995, ..., -0.022293, -0.028956, -0.000944, -0.040057],\n",
       "        [-0.012191, -0.030585, -0.024932, -0.033114, ..., -0.026624,  0.001011, -0.00228 , -0.039847]], dtype=float32))"
      ]
     },
     "execution_count": 29,
     "metadata": {},
     "output_type": "execute_result"
    }
   ],
   "source": [
    "#Neccessary functions from validation notebook are already in utils.py. So lets just import them\n",
    "#from utils import validate_on_dataset\n",
    "\n",
    "#Lets create inference network without clf output and with normalization:\n",
    "class RingGeMNetInfer(nn.Module):\n",
    "    def __init__(self, new_model, n_classes, in_feats=1024, out_feats=1024):\n",
    "        super().__init__()\n",
    "        self.cnn =  new_model.features\n",
    "        self.head = RingHead(NUM_CLASSES, out_feats, in_feats)\n",
    "    def forward(self, x):\n",
    "        x = self.cnn(x)\n",
    "        preds,feats = self.head(x)\n",
    "        return L2Norm()(feats)\n",
    "\n",
    "InferenceNet =  RingGeMNetInfer(models.densenet121(pretrained=True),\n",
    "                               NUM_CLASSES)\n",
    "InferenceNet.load_state_dict(learn.model.state_dict())\n",
    "\n",
    "\n",
    "val_index_feats, val_query_feats = validate_on_dataset(InferenceNet,'oxford5k')"
   ]
  },
  {
   "cell_type": "code",
   "execution_count": 31,
   "metadata": {},
   "outputs": [
    {
     "name": "stdout",
     "output_type": "stream",
     "text": [
      "Extracting query features...\n"
     ]
    },
    {
     "data": {
      "text/html": [
       "\n",
       "    <div>\n",
       "        <style>\n",
       "            /* Turns off some styling */\n",
       "            progress {\n",
       "                /* gets rid of default border in Firefox and Opera. */\n",
       "                border: none;\n",
       "                /* Needs to be in here for Safari polyfill so background images work as expected. */\n",
       "                background-size: auto;\n",
       "            }\n",
       "            .progress-bar-interrupted, .progress-bar-interrupted::-webkit-progress-bar {\n",
       "                background: #F44336;\n",
       "            }\n",
       "        </style>\n",
       "      <progress value='55' class='' max='55', style='width:300px; height:20px; vertical-align: middle;'></progress>\n",
       "      100.00% [55/55 00:01<00:00]\n",
       "    </div>\n",
       "    "
      ],
      "text/plain": [
       "<IPython.core.display.HTML object>"
      ]
     },
     "metadata": {},
     "output_type": "display_data"
    },
    {
     "name": "stdout",
     "output_type": "stream",
     "text": [
      "Extracting index features...\n"
     ]
    },
    {
     "data": {
      "text/html": [
       "\n",
       "    <div>\n",
       "        <style>\n",
       "            /* Turns off some styling */\n",
       "            progress {\n",
       "                /* gets rid of default border in Firefox and Opera. */\n",
       "                border: none;\n",
       "                /* Needs to be in here for Safari polyfill so background images work as expected. */\n",
       "                background-size: auto;\n",
       "            }\n",
       "            .progress-bar-interrupted, .progress-bar-interrupted::-webkit-progress-bar {\n",
       "                background: #F44336;\n",
       "            }\n",
       "        </style>\n",
       "      <progress value='5063' class='' max='5063', style='width:300px; height:20px; vertical-align: middle;'></progress>\n",
       "      100.00% [5063/5063 02:43<00:00]\n",
       "    </div>\n",
       "    "
      ],
      "text/plain": [
       "<IPython.core.display.HTML object>"
      ]
     },
     "metadata": {},
     "output_type": "display_data"
    },
    {
     "name": "stdout",
     "output_type": "stream",
     "text": [
      ">> oxford5k: Evaluating...\n",
      ">> oxford5k: mAP 41.62\n",
      "now finetuned network\n"
     ]
    },
    {
     "ename": "AttributeError",
     "evalue": "'Sequential' object has no attribute 'copy'",
     "output_type": "error",
     "traceback": [
      "\u001b[0;31m---------------------------------------------------------------------------\u001b[0m",
      "\u001b[0;31mAttributeError\u001b[0m                            Traceback (most recent call last)",
      "\u001b[0;32m<ipython-input-31-1ae5429d88e2>\u001b[0m in \u001b[0;36m<module>\u001b[0;34m\u001b[0m\n\u001b[1;32m     17\u001b[0m \u001b[0;34m\u001b[0m\u001b[0m\n\u001b[1;32m     18\u001b[0m \u001b[0mprint\u001b[0m \u001b[0;34m(\u001b[0m\u001b[0;34m'now finetuned network'\u001b[0m\u001b[0;34m)\u001b[0m\u001b[0;34m\u001b[0m\u001b[0;34m\u001b[0m\u001b[0m\n\u001b[0;32m---> 19\u001b[0;31m \u001b[0mInferenceNet\u001b[0m\u001b[0;34m.\u001b[0m\u001b[0mcnn\u001b[0m\u001b[0;34m.\u001b[0m\u001b[0mload_state_dict\u001b[0m\u001b[0;34m(\u001b[0m\u001b[0mlearn\u001b[0m\u001b[0;34m.\u001b[0m\u001b[0mmodel\u001b[0m\u001b[0;34m.\u001b[0m\u001b[0mcnn\u001b[0m\u001b[0;34m)\u001b[0m\u001b[0;34m\u001b[0m\u001b[0;34m\u001b[0m\u001b[0m\n\u001b[0m\u001b[1;32m     20\u001b[0m \u001b[0mval_index_feats\u001b[0m\u001b[0;34m,\u001b[0m \u001b[0mval_query_feats\u001b[0m \u001b[0;34m=\u001b[0m \u001b[0mvalidate_on_dataset\u001b[0m\u001b[0;34m(\u001b[0m\u001b[0mInferenceNet\u001b[0m\u001b[0;34m,\u001b[0m \u001b[0;34m'oxford5k'\u001b[0m\u001b[0;34m)\u001b[0m\u001b[0;34m\u001b[0m\u001b[0;34m\u001b[0m\u001b[0m\n",
      "\u001b[0;32m~/anaconda3/envs/fastai1/lib/python3.7/site-packages/torch/nn/modules/module.py\u001b[0m in \u001b[0;36mload_state_dict\u001b[0;34m(self, state_dict, strict)\u001b[0m\n\u001b[1;32m    740\u001b[0m         \u001b[0;31m# copy state_dict so _load_from_state_dict can modify it\u001b[0m\u001b[0;34m\u001b[0m\u001b[0;34m\u001b[0m\u001b[0;34m\u001b[0m\u001b[0m\n\u001b[1;32m    741\u001b[0m         \u001b[0mmetadata\u001b[0m \u001b[0;34m=\u001b[0m \u001b[0mgetattr\u001b[0m\u001b[0;34m(\u001b[0m\u001b[0mstate_dict\u001b[0m\u001b[0;34m,\u001b[0m \u001b[0;34m'_metadata'\u001b[0m\u001b[0;34m,\u001b[0m \u001b[0;32mNone\u001b[0m\u001b[0;34m)\u001b[0m\u001b[0;34m\u001b[0m\u001b[0;34m\u001b[0m\u001b[0m\n\u001b[0;32m--> 742\u001b[0;31m         \u001b[0mstate_dict\u001b[0m \u001b[0;34m=\u001b[0m \u001b[0mstate_dict\u001b[0m\u001b[0;34m.\u001b[0m\u001b[0mcopy\u001b[0m\u001b[0;34m(\u001b[0m\u001b[0;34m)\u001b[0m\u001b[0;34m\u001b[0m\u001b[0;34m\u001b[0m\u001b[0m\n\u001b[0m\u001b[1;32m    743\u001b[0m         \u001b[0;32mif\u001b[0m \u001b[0mmetadata\u001b[0m \u001b[0;32mis\u001b[0m \u001b[0;32mnot\u001b[0m \u001b[0;32mNone\u001b[0m\u001b[0;34m:\u001b[0m\u001b[0;34m\u001b[0m\u001b[0;34m\u001b[0m\u001b[0m\n\u001b[1;32m    744\u001b[0m             \u001b[0mstate_dict\u001b[0m\u001b[0;34m.\u001b[0m\u001b[0m_metadata\u001b[0m \u001b[0;34m=\u001b[0m \u001b[0mmetadata\u001b[0m\u001b[0;34m\u001b[0m\u001b[0;34m\u001b[0m\u001b[0m\n",
      "\u001b[0;32m~/anaconda3/envs/fastai1/lib/python3.7/site-packages/torch/nn/modules/module.py\u001b[0m in \u001b[0;36m__getattr__\u001b[0;34m(self, name)\u001b[0m\n\u001b[1;32m    533\u001b[0m                 \u001b[0;32mreturn\u001b[0m \u001b[0mmodules\u001b[0m\u001b[0;34m[\u001b[0m\u001b[0mname\u001b[0m\u001b[0;34m]\u001b[0m\u001b[0;34m\u001b[0m\u001b[0;34m\u001b[0m\u001b[0m\n\u001b[1;32m    534\u001b[0m         raise AttributeError(\"'{}' object has no attribute '{}'\".format(\n\u001b[0;32m--> 535\u001b[0;31m             type(self).__name__, name))\n\u001b[0m\u001b[1;32m    536\u001b[0m \u001b[0;34m\u001b[0m\u001b[0m\n\u001b[1;32m    537\u001b[0m     \u001b[0;32mdef\u001b[0m \u001b[0m__setattr__\u001b[0m\u001b[0;34m(\u001b[0m\u001b[0mself\u001b[0m\u001b[0;34m,\u001b[0m \u001b[0mname\u001b[0m\u001b[0;34m,\u001b[0m \u001b[0mvalue\u001b[0m\u001b[0;34m)\u001b[0m\u001b[0;34m:\u001b[0m\u001b[0;34m\u001b[0m\u001b[0;34m\u001b[0m\u001b[0m\n",
      "\u001b[0;31mAttributeError\u001b[0m: 'Sequential' object has no attribute 'copy'"
     ]
    }
   ],
   "source": [
    "#What about original barebone network?\n",
    "class GeMNet(nn.Module):\n",
    "    def __init__(self, new_model):\n",
    "        super().__init__()\n",
    "        self.cnn =  new_model.features\n",
    "        self.head = nn.Sequential(nn.ReLU(),\n",
    "                                  GeM(3.0),\n",
    "                                  Flatten(),\n",
    "                                  L2Norm())\n",
    "    def forward(self, x):\n",
    "        x = self.cnn(x)\n",
    "        out = self.head(x)\n",
    "        return out\n",
    "\n",
    "InferenceNet =  GeMNet(models.densenet121(pretrained=True))\n",
    "val_index_feats, val_query_feats = validate_on_dataset( InferenceNet,'oxford5k')\n"
   ]
  },
  {
   "cell_type": "code",
   "execution_count": 32,
   "metadata": {},
   "outputs": [
    {
     "name": "stdout",
     "output_type": "stream",
     "text": [
      "now finetuned network\n",
      "Extracting query features...\n"
     ]
    },
    {
     "data": {
      "text/html": [
       "\n",
       "    <div>\n",
       "        <style>\n",
       "            /* Turns off some styling */\n",
       "            progress {\n",
       "                /* gets rid of default border in Firefox and Opera. */\n",
       "                border: none;\n",
       "                /* Needs to be in here for Safari polyfill so background images work as expected. */\n",
       "                background-size: auto;\n",
       "            }\n",
       "            .progress-bar-interrupted, .progress-bar-interrupted::-webkit-progress-bar {\n",
       "                background: #F44336;\n",
       "            }\n",
       "        </style>\n",
       "      <progress value='55' class='' max='55', style='width:300px; height:20px; vertical-align: middle;'></progress>\n",
       "      100.00% [55/55 00:01<00:00]\n",
       "    </div>\n",
       "    "
      ],
      "text/plain": [
       "<IPython.core.display.HTML object>"
      ]
     },
     "metadata": {},
     "output_type": "display_data"
    },
    {
     "name": "stdout",
     "output_type": "stream",
     "text": [
      "Extracting index features...\n"
     ]
    },
    {
     "data": {
      "text/html": [
       "\n",
       "    <div>\n",
       "        <style>\n",
       "            /* Turns off some styling */\n",
       "            progress {\n",
       "                /* gets rid of default border in Firefox and Opera. */\n",
       "                border: none;\n",
       "                /* Needs to be in here for Safari polyfill so background images work as expected. */\n",
       "                background-size: auto;\n",
       "            }\n",
       "            .progress-bar-interrupted, .progress-bar-interrupted::-webkit-progress-bar {\n",
       "                background: #F44336;\n",
       "            }\n",
       "        </style>\n",
       "      <progress value='5063' class='' max='5063', style='width:300px; height:20px; vertical-align: middle;'></progress>\n",
       "      100.00% [5063/5063 02:43<00:00]\n",
       "    </div>\n",
       "    "
      ],
      "text/plain": [
       "<IPython.core.display.HTML object>"
      ]
     },
     "metadata": {},
     "output_type": "display_data"
    },
    {
     "name": "stdout",
     "output_type": "stream",
     "text": [
      ">> oxford5k: Evaluating...\n",
      ">> oxford5k: mAP 50.38\n"
     ]
    }
   ],
   "source": [
    "print ('now finetuned network')\n",
    "InferenceNet.cnn.load_state_dict(learn.model.cnn.state_dict())\n",
    "val_index_feats, val_query_feats = validate_on_dataset(InferenceNet, 'oxford5k')\n",
    "\n",
    "#Nice! We have improved from 41 mAP on Oxford5k to 50 in just 45 minutes.\n",
    "# It also seems that learned \"head\" is too specific to our training dataset, so better to discard it"
   ]
  },
  {
   "cell_type": "code",
   "execution_count": 33,
   "metadata": {},
   "outputs": [
    {
     "name": "stderr",
     "output_type": "stream",
     "text": [
      "/home.dokt/mishkdmy/anaconda3/envs/fastai1/lib/python3.7/site-packages/torchvision/models/densenet.py:212: UserWarning: nn.init.kaiming_normal is now deprecated in favor of nn.init.kaiming_normal_.\n",
      "  nn.init.kaiming_normal(m.weight.data)\n"
     ]
    },
    {
     "name": "stdout",
     "output_type": "stream",
     "text": [
      "Extracting query features...\n"
     ]
    },
    {
     "data": {
      "text/html": [
       "\n",
       "    <div>\n",
       "        <style>\n",
       "            /* Turns off some styling */\n",
       "            progress {\n",
       "                /* gets rid of default border in Firefox and Opera. */\n",
       "                border: none;\n",
       "                /* Needs to be in here for Safari polyfill so background images work as expected. */\n",
       "                background-size: auto;\n",
       "            }\n",
       "            .progress-bar-interrupted, .progress-bar-interrupted::-webkit-progress-bar {\n",
       "                background: #F44336;\n",
       "            }\n",
       "        </style>\n",
       "      <progress value='55' class='' max='55', style='width:300px; height:20px; vertical-align: middle;'></progress>\n",
       "      100.00% [55/55 00:01<00:00]\n",
       "    </div>\n",
       "    "
      ],
      "text/plain": [
       "<IPython.core.display.HTML object>"
      ]
     },
     "metadata": {},
     "output_type": "display_data"
    },
    {
     "name": "stdout",
     "output_type": "stream",
     "text": [
      "Extracting index features...\n"
     ]
    },
    {
     "data": {
      "text/html": [
       "\n",
       "    <div>\n",
       "        <style>\n",
       "            /* Turns off some styling */\n",
       "            progress {\n",
       "                /* gets rid of default border in Firefox and Opera. */\n",
       "                border: none;\n",
       "                /* Needs to be in here for Safari polyfill so background images work as expected. */\n",
       "                background-size: auto;\n",
       "            }\n",
       "            .progress-bar-interrupted, .progress-bar-interrupted::-webkit-progress-bar {\n",
       "                background: #F44336;\n",
       "            }\n",
       "        </style>\n",
       "      <progress value='5063' class='' max='5063', style='width:300px; height:20px; vertical-align: middle;'></progress>\n",
       "      100.00% [5063/5063 02:43<00:00]\n",
       "    </div>\n",
       "    "
      ],
      "text/plain": [
       "<IPython.core.display.HTML object>"
      ]
     },
     "metadata": {},
     "output_type": "display_data"
    },
    {
     "name": "stdout",
     "output_type": "stream",
     "text": [
      ">> oxford5k: Evaluating...\n",
      ">> oxford5k: mAP 55.73\n"
     ]
    },
    {
     "data": {
      "text/plain": [
       "(array([[0.009218, 0.007043, 0.00896 , 0.008188, ..., 0.0232  , 0.070439, 0.015883, 0.036105],\n",
       "        [0.007189, 0.007374, 0.009879, 0.007666, ..., 0.048429, 0.043073, 0.021681, 0.056904],\n",
       "        [0.006041, 0.007137, 0.009219, 0.008475, ..., 0.022902, 0.061748, 0.067738, 0.049438],\n",
       "        [0.008751, 0.009382, 0.008864, 0.008714, ..., 0.043793, 0.044174, 0.034268, 0.031822],\n",
       "        ...,\n",
       "        [0.007183, 0.006371, 0.008266, 0.006075, ..., 0.018051, 0.049209, 0.051562, 0.142529],\n",
       "        [0.009814, 0.00554 , 0.013052, 0.004439, ..., 0.015529, 0.047355, 0.048079, 0.024149],\n",
       "        [0.007248, 0.006807, 0.01133 , 0.005945, ..., 0.021319, 0.057661, 0.05075 , 0.078325],\n",
       "        [0.007446, 0.007827, 0.009641, 0.008125, ..., 0.060203, 0.04535 , 0.02601 , 0.05862 ]], dtype=float32),\n",
       " array([[0.008481, 0.00743 , 0.009806, 0.006564, ..., 0.021542, 0.042994, 0.025593, 0.040435],\n",
       "        [0.008065, 0.007517, 0.008956, 0.003757, ..., 0.034834, 0.043735, 0.047582, 0.080024],\n",
       "        [0.007505, 0.00789 , 0.007239, 0.002119, ..., 0.015954, 0.039286, 0.054467, 0.043882],\n",
       "        [0.006251, 0.009789, 0.010882, 0.004469, ..., 0.012882, 0.034169, 0.067641, 0.075374],\n",
       "        ...,\n",
       "        [0.008593, 0.006541, 0.009326, 0.007253, ..., 0.02676 , 0.042184, 0.041024, 0.034649],\n",
       "        [0.007205, 0.007757, 0.010422, 0.006076, ..., 0.031971, 0.054965, 0.057171, 0.036338],\n",
       "        [0.008024, 0.007292, 0.010634, 0.005574, ..., 0.021119, 0.042978, 0.028455, 0.044313],\n",
       "        [0.00747 , 0.007559, 0.010152, 0.006521, ..., 0.022604, 0.043859, 0.052641, 0.047198]], dtype=float32))"
      ]
     },
     "execution_count": 33,
     "metadata": {},
     "output_type": "execute_result"
    }
   ],
   "source": [
    "# Now let`s check and idea from https://arxiv.org/pdf/1902.05509.pdf\n",
    "# train GeM with p=3 with small images (256px), \n",
    "# and test on big (1024px), but with increased p=5\n",
    "\n",
    "class GeMNet(nn.Module):\n",
    "    def __init__(self, new_model):\n",
    "        super().__init__()\n",
    "        self.cnn =  new_model.features\n",
    "        self.head = nn.Sequential(nn.ReLU(),\n",
    "                                  GeM(5.0),\n",
    "                                  Flatten(),\n",
    "                                  L2Norm())\n",
    "    def forward(self, x):\n",
    "        x = self.cnn(x)\n",
    "        out = self.head(x)\n",
    "        return out\n",
    "    \n",
    "InferenceNet =  GeMNet(models.densenet121(pretrained=True))\n",
    "InferenceNet.cnn.load_state_dict(learn.model.cnn.state_dict())\n",
    "validate_on_dataset( InferenceNet, 'oxford5k')\n",
    "\n",
    "#Seems to work! "
   ]
  },
  {
   "cell_type": "code",
   "execution_count": null,
   "metadata": {},
   "outputs": [],
   "source": []
  }
 ],
 "metadata": {
  "kernelspec": {
   "display_name": "Python 3",
   "language": "python",
   "name": "python3"
  },
  "language_info": {
   "codemirror_mode": {
    "name": "ipython",
    "version": 3
   },
   "file_extension": ".py",
   "mimetype": "text/x-python",
   "name": "python",
   "nbconvert_exporter": "python",
   "pygments_lexer": "ipython3",
   "version": "3.7.2"
  }
 },
 "nbformat": 4,
 "nbformat_minor": 2
}
